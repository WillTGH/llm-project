{
 "cells": [
  {
   "cell_type": "code",
   "execution_count": 1,
   "metadata": {},
   "outputs": [
    {
     "name": "stdout",
     "output_type": "stream",
     "text": [
      "cuda\n"
     ]
    }
   ],
   "source": [
    "import torch\n",
    "import torch.nn as nn\n",
    "import torch.nn.functional as F\n",
    "import mmap\n",
    "import random\n",
    "import pickle\n",
    "\n",
    "device = 'cuda' if torch.cuda.is_available() else 'cpu'\n",
    "print(device)\n",
    "\n",
    "#model name model-<model number>_<0 + saved model usedd>_<iter>\n",
    "model_name = \"V:/llm-project/trained_models/model-01_1_subWord.pkl\"\n",
    "saved_model = 'V:/llm-project/trained_models/model-03_5.pkl'\n",
    "use_trained_model = False\n",
    "\n",
    "train_file_path = \"V:/llm-project/datasets/train_split.txt\"\n",
    "val_file_path = \"V:/llm-project/datasets/val_split.txt\"\n",
    "vocab_file_path = \"V:/llm-project/datasets/vocab2.txt\"\n",
    "\n",
    "batch_size = 32\n",
    "block_size = 64\n",
    "learning_rate = 3e-4\n",
    "max_iters = 500\n",
    "eval_iters = 50\n",
    "n_embd = 384\n",
    "n_head = 4\n",
    "n_layer = 4\n",
    "dropout = 0.2"
   ]
  },
  {
   "cell_type": "code",
   "execution_count": 2,
   "metadata": {},
   "outputs": [
    {
     "name": "stdout",
     "output_type": "stream",
     "text": [
      "['choll', 'horat', 'contented', 'wipe', 'craft', 'crow', 'distracted', 'moun', 'chamber', 'goo', 'germaine', 'octa', 'hideous', 'lippi', 'tune', 'habite', 'v', 'compos', 'be', 'wh', 'we', 'beards', 'sight', 'pl', 'pi', 'nane', 'ched', 'serpent', 'sing', 'heeles', 'liber', 'tee', 'tender', 'ingag', 'nights', 'trude', 'blood', 'lion', 'poses', 'ayme', 'milke', 'foo', 'shew', 'gart', 'wounded', 'honour', 'greet', 'ils', 'gge', 'hands', 'drowne', 'till', 'ts', 'ast', 'condition', 'prepare', 'ions', 'coarse', 'set', 'swe', 'deafe', 'vers', 'off', 'gener', 'broke', 'ounds', 'chie', 'bread', 'pipe', 'drow', 'creat', 'fi', 'primrose', 'crib', 'supper', 'ous', 'morning', 'yson', 'sometimes', 'common', 'three', 'patch', 'fir', 'ldron', 'su', 'horatio', 'tain', 'labour', 'west', 'uo', 'ends', 'coll', 'che', 'em', 'icall', 'speaking', 'gobl', 'thri', 'drinke', 'slee', 'got', 'inking', 'muddy', 'minde', 'eene', 'ong', 'heath', 'haires', 'harme', 'cell', 'brother', 'comment', 'harrow', 'tedious', 'bap', 'ors', 'sum', 'ope', 'gifts', 'canop', 'conference', 'sights', 'dream', 'rew', 'knowing', 'monies', 'dirt', 'fled', 'contr', 'gul', 'perni', 'silence', 'wra', 'lish', 'rase', 'ba', 'suite', 'ourge', 'finde', 'brutus', 'pick', 'sis', 'ron', 'minds', 'slow', 'ges', 'try', 'lin', 'mp', 'lighted', 'according', 'abroad', 'tels', 'll', 'beth', 'rule', 'fou', 'por', 'speak', 'tite', 'pluck', 'change', 'offended', 'carri', 'wip', 'conquer', 'sm', 'phrase', 'fri', 'happily', 'die', 'ting', 'ales', 'appre', 'chid', 'ation', 'credit', 'pr', 'ld', 'cann', 'age', 'aw', 'interim', 'dered', 'dam', 'wanton', 'sayl', 'mi', 'content', 'fil', 'suff', 'being', 'pla', 'fer', 'dark', 'cicer', 'domes', 'spring', 'touch', 'ront', 'aling', 'cannon', 'stri', 'inted', 'fle', 'cassi', 'duty', 'sound', 'flatterers', 'pompe', 'stirring', 'dreadfull', 'progresse', 'peare', 'mag', 'gies', 'faces', 'hecat', 'bride', 'sayes', 'pple', 'walk', 'loo', 'l', 'ear', 'iig', 'warlike', 'umpe', 'ophel', 'meate', 'euen', 'epe', 'fection', 'beest', 'hand', 'oy', 'beaut', 'ded', 'bul', 'cand', 'contend', 'incl', 'distance', 'fury', 'sequ', 'purge', 'impossible', 't', 'ord', 'court', 'uy', 'ure', 'admir', 'ofe', 'tiall', 'ky', 'demand', 'stand', 'secret', 'grant', 'xt', 'spred', 'coun', 'cause', 'kites', 'appoint', 'diadem', 'blan', 'g', 'cis', 'been', 'afe', 'slaughter', 'auing', 'runne', 'med', 'friendly', 'soll', 'making', 'weene', 'angry', 'ee', 'led', 'glim', 'murderers', 'your', 'pier', 'words', 'comming', 'obiect', 'doct', 'cure', 'dying', 'ordinary', 'seest', 'rance', 'ude', 'not', 'rages', 'cers', 'curse', 'inke', 'towards', 'epi', 'intend', 'ffling', 'generals', 'minute', 'stop', 'ambitious', 'ingratitude', 'enna', 'is', 'nothing', 'games', 'foot', 'defect', 'zard', 'rons', 'desperate', 'angus', 'ato', 'acie', 'test', 'modes', 'lad', 'hors', 'smiles', 'shrewd', 'daggers', 'chiefe', 'raw', 'scratch', 'satisfied', 'mens', 'hon', 'comicall', 'patient', 'arrell', 'killes', 'pict', 'dag', 'entertainment', 'cic', 'twent', 'us', 'fore', 'meeting', 'babe', 'laer', 'seate', 'stu', 'solid', 'lu', 'absence', 'ris', 'winters', 'har', 'fates', 'disease', 'bloo', 'aff', 'pad', 'neede', 'sweat', 'uffling', 'sig', 'conf', 'whit', 'ould', 'varrus', 'parts', 'ash', 'bent', 'spirit', 'ale', 'fes', 'street', 'meane', 'lated', 'non', 'became', 'conu', 'ards', 'grone', 'tremble', 'messala', 'vile', 'eternall', 'tri', 'buy', 'currants', 'ather', 'heare', 'inch', 'whisper', 'flau', 'times', 'tragicall', 'b', 'les', 'quoth', 'secrets', 'knowne', 'wife', 'uice', 'meere', 'dur', 'thirtie', 'wherefore', 'aske', 'uent', 'lou', 'refus', 'rand', 'findes', 'pole', 'constr', 'ught', 'weed', 'haunt', 'ur', 'idle', 'holy', 'habit', 'ayres', 'thankes', 'buri', '15', 'hec', 'fresh', 'ag', 'naue', 'safely', 'pale', 'turke', 'prate', 'title', 'ged', 'fling', 'sion', 'belou', 'orth', 'er', 'signe', 'leape', 'murder', 'its', 'i', 'ep', 'thor', 'mise', 'aene', 'remem', 'cate', 'marcus', 'courti', 'spirits', 'went', 'sod', 'kee', 'calls', 'sham', 'lowe', 'reg', 'hu', 'rul', 'far', 'drop', 'want', 'breathing', 'winne', 'ancest', 'had', 'spanie', 'clim', 'ars', 'lues', 'ras', 'beside', 'neigh', 'sword', 'welcome', 'xion', 'pas', 'nish', 'ge', 'lect', 'sometime', 'embrace', 'incorpor', 'smile', 'posit', 'æ', 'ton', 'images', 'chall', 'pulpit', 'tush', 'tride', 'eate', 'ocat', 'fied', 'clau', 'nony', 'charme', 'ffect', 'itations', 'cath', 'bras', 'perils', 'petty', 'ppings', 'som', 'kins', 'lands', 'llow', 'front', 'nd', 'cask', 'caps', 'use', 'vice', 'remain', 'rill', 'den', 'leane', 'false', 'consequ', 'hund', 'sicke', 'suffer', 'things', 'hold', 'homage', 'omnes', 'pronounc', 'pyrrhus', 'dust', 'cut', 'ver', 'noise', 'ven', 'f', 'noted', 'soyle', 'ctorie', 'annoy', 'fetch', 'apace', 'blacke', 'vp', 'past', 'powers', 'ground', 'pat', 'ories', 'enes', 'time', 'frow', 'with', 'iour', 'exercise', 'ayle', 'demy', 'doore', 'order', 'qual', 'hast', 'pos', ']', 'fierce', 'ken', 'consent', 'ty', 'rant', 'incestuous', 'neces', 'publike', 'apparition', 'pe', 'ory', 'houses', 'away', 'ines', 'fant', 'health', 'greene', 'willes', 'early', 'flow', 'perform', 'staf', 'te', 'fought', 'they', 'anon', 'truant', 'hill', 'list', 'doub', 'bear', 'bes', 'began', 'bing', 'ot', 'trumpe', 'ited', 'day', 'stay', 'portable', 'sayer', 'trouble', 'mothers', 'naught', 'hous', 'capito', 'alliance', 'consp', 'orchard', 'medi', 'itions', 'ci', 'intended', 'sweepe', 'countrymen', 'exact', 'feare', 'philoso', 'closes', 'vsu', 'cra', 'd', 'discre', 'art', 'blasted', 'depart', 'fashion', 'courtes', 'walking', 'adam', 'pure', 'ape', 'reyno', 'theft', 'brace', 'no', 'robes', 'tw', 'st', 'thunders', 'whole', 'arti', 'u', 'rious', 'prick', 'lodge', 'nell', 'oun', 'kno', 'confession', 'doe', 'atforme', 'chell', 'ireland', 'fit', 'ued', 'tellus', 'quickly', 'rooke', 'sure', 'measure', 'witch', 'humour', 'nty', 'secre', 'worth', 'meanes', 'sooth', 'fly', 'rights', 'dre', 'lucius', 'voice', 'weeping', 'iaw', 'rable', 'ena', 'distrust', 'iling', 'paire', 'kes', 'mettle', 'iet', 'affraid', 'head', 'murth', 'possible', 'plo', 'mrose', 'impatient', 'accident', 'thee', 'wings', 'zz', 'name', 'sub', 'mpe', 'lyons', 'prize', 'thumbe', 'comple', 'chur', 'desc', 'sexta', 'wounds', 'bleed', 'rou', 'ga', 'amen', 'counter', 'something', 'wilde', 'cornelius', 'doubts', 'yon', 'gho', 'else', 'least', 'bosome', 'wright', 'tricke', 'ago', 'ish', 'sheath', 'has', 'alme', 'playd', 'corpor', 'huge', 'sch', '4', 'af', 'speake', 'ds', 'finis', 'ations', 'qu', 'ter', 'digest', 'cyn', 'lost', 'faire', 'bu', 'knit', 'hoa', 'dally', 'exp', 'fla', 'prat', 'iulius', 'isht', 'ali', 'bankes', 'robe', 'damned', 'delight', 'cost', 'sir', 'iles', 'twer', 'therefore', 'wind', 'sible', 'soft', 'through', 'or', 'rec', 'hall', 'cesse', 'ens', 'spake', 'he', 'writ', 'stam', 'too', 'aten', 'allow', 'ambas', 'steal', 'ples', 'circum', 'rewards', 'fur', 'hang', 'fare', 'ffe', 'shine', 'need', 'returne', 'feast', 'leade', 'so', 'applaud', 'phy', 'sed', 'imper', 'tia', 'nephe', 'plaid', 'bus', 'mant', 'var', 'flint', 'offices', 'story', 'compa', 'eech', 'gra', 'streng', 'capit', 'ald', 'stands', 'uing', 'teeth', 'absur', 'umbe', 'cold', 'grapple', 'ene', 'tch', 'shrill', 'actors', 'all', 'wro', 'ticall', 'gentlewoman', 'passion', 'ren', 'lips', 'sit', 'complexion', 'former', 'bodies', 'trash', 'maker', 'pres', 'fantasie', 'ladies', 'intre', 'scope', 'corruption', 'ine', 'guilt', 'cursed', 'reade', 'another', 'gn', 'sinke', 'mixt', 'banquo', 'bloods', 'older', 'terrible', 'felt', 'kingly', 'quint', 'cti', 'refle', 'lie', 'backe', 'inhabit', 'ising', 'temp', 'rhus', 'thoughts', 'resol', 'reconc', 'wits', 'birds', 'cases', 'nake', 'lim', 'simple', 'melan', 'fro', 'fife', 'spurne', 'oce', 'toe', 'wrath', 'humor', 'yesterday', 'pt', 'ades', 'shame', 'io', 'ooth', 'ex', 'coole', 'pri', 'mers', 'orchar', 'rage', 'espe', 'ilde', 'int', 'pull', 'ond', 'attendants', 'wont', 'supt', 'alted', 'vision', 'that', 'two', 'cond', 'stor', 'amis', 'spur', 'sco', 'sore', 'roman', 'fool', 'toward', 'clow', 'bubble', 'partner', 'akers', 'nature', 'weeds', 'mne', 'sundry', 'cl', '?', 'ride', 'perfect', 'arrant', 'stre', 'maes', 'banq', 'pra', 'ident', 'beet', 'lebr', 'hou', 'murthere', 'loosing', 'performan', 'fight', 'card', 'shaking', 'seat', 'cht', 'hie', 'done', 'alth', 'excellent', 'moue', 'rate', 'enger', 'deaths', 'gest', 'protest', 'creature', 'yaw', 'take', '99', 'undge', 'agion', 'slight', 'hid', 'eded', 'cre', 'countries', 'slept', 'bastard', 'goe', 'ng', 'scorne', 'meet', 'strife', 'ta', 'uts', 'pall', 'ny', 'uen', 'cato', 'stirre', 'trumpet', 'armour', 'ease', 'cheere', 'consi', 'sland', 'willing', 'deu', 'ender', 'speeches', 'here', 'ghters', 'players', 'ises', 'safer', 'puts', 'philippi', 'sau', 'mble', 'un', 'affliction', 'ask', 'brings', 'bee', 'mus', 'recount', 'honest', 'ig', 'offer', 'mad', 'bondman', 'indifferent', 'sus', 'swi', 'flye', 'arse', 'killing', 'compell', 'fate', 'feed', 'ordinance', 'dead', 'wheele', 'tres', 'tran', 'when', 'strong', 'bre', 'councell', 'slaine', 'donal', 'assay', 'str', 'nightly', 'wee', 'sund', 'rele', 'hap', 'foes', 'arri', 'warning', 'stance', 'woo', 'ony', 'o', 'search', 'ates', 'erous', 'truth', 'anti', 'officers', 'chris', 'se', 'endure', 'forbid', 'merit', 'trace', 'ft', 'vr', 'reame', 'blunt', 'enster', 'wis', 'it', 'nt', 'wager', 'shakespeare', 'end', 'other', 'greatest', 'harlot', 'estate', 'tled', 'eem', 'swell', 'company', 'wal', 'triumph', 'crew', 'charge', 'presently', 'sign', 'hem', 'row', 'priest', 'compt', 'cum', 'sca', 'san', 'pp', 'geance', 'while', 'claudio', 'particular', 'ull', 'vses', 'step', 'brought', 'ides', 'dangerous', 'inde', 'gum', 'moone', 'duties', 'marri', 'form', 'gu', 'bred', 'miser', 'sardis', 'gla', 'rid', 'pro', 'father', 'sooner', 'stake', 'mur', 'shell', 'male', 'oc', 'could', 'bed', 'met', 'fals', 'twere', 'mission', 'natur', 'gger', 'el', 'gle', 'reck', 'sticke', 'cro', 'kle', 'ctified', 'angels', 'command', 'mercy', 'censure', 'creation', 'performe', 'diffe', 'hit', 'frame', 'hereafter', 'fine', 'rugged', 'working', 'de', 'flie', 'twill', 'ard', 'witches', 'banque', 'brut', 'bite', 'beasts', 'big', 'ches', 'skin', 'uous', 'gentlemen', 'lea', 'turne', 'matters', 'ist', 'mischance', 'iall', 'children', 'unate', 'sort', 'ra', 'efe', 'aring', 'wild', 'remaine', 'yong', 'mou', 'most', 'faile', 'helpe', 'was', 'ward', 'scene', 'dent', 'immin', 'ching', 'inter', 'dece', 'moment', 'ainst', 'aue', 'ners', 'nine', 'eu', 'peece', 'herald', '.', 'heap', 'scape', 'lust', 'once', 'traitors', 'audience', 'rie', 'golden', 'opposition', 'secunda', 'ander', 'prison', 'anc', 'field', 'weight', 'little', 'gy', 'stan', 'shi', 'greeting', 'tending', 'saying', 'ceremonies', 'rome', 'blow', 'because', 'finger', 'gard', 'ither', 'lord', 'exit', 'spo', 'country', 'lambe', 'idence', 'cape', 'looke', 'comm', 'solic', 'either', 'night', 'direct', 'pride', '2', 'formall', 'contin', 'sent', 'very', 'than', 'terme', 'nor', 'cease', 'enemies', 'bore', 'almost', 'toge', 'domin', 'burst', 'glasse', 'wre', 'file', 'ery', 'none', 'loy', 'merrie', 'vis', 'ruines', 'note', 'na', 'rowne', 'le', 'conclu', 'widdow', 'nest', 'tlements', 'comfort', 'charmed', 'braine', 'tra', 'ough', 'boy', 'smac', 'poor', 'ession', 'are', 'ers', 'lose', 'heard', 'haw', 'mar', 'remembrance', 'sable', 'aries', 'think', 'fye', 'aly', 'cir', 'zze', 'known', 'promis', 'flourish', 'tie', 'pyr', 'rence', 'decl', 'yes', 'tooth', 'wonderfull', 'tar', 'n', 'admit', 'guts', 'treb', 'also', 'magi', 'scale', 'mpus', 'mars', 'ster', 'path', 'zards', 'hur', 'wilt', 'question', 'pub', 'entra', 'ambition', 'view', 'catch', 'wo', 'letters', 'red', 'iu', 'countre', 'fie', 'chment', 'expectation', 'whe', 'im', 'conspirators', 'uile', 'case', 'ason', 'lone', 'wine', 'sold', 'distemper', 'dishonour', 'hurt', 'about', 'meant', 'ining', 'mans', 'yor', 'finding', 'taking', 'crests', 'emu', 'marble', 'does', 'staid', 'profound', 'brest', 'tered', 'read', 'tall', 'thir', 'tend', 'dispatch', 'ame', 'starre', 'gresse', 'resort', 'affection', 'confine', 'round', 'po', 'pledge', 'mark', 'escape', 'mightier', 'imagination', 'farewell', 'amaze', 'pun', 'sh', 'aph', 'ieal', 'kings', 'season', 'burnes', 'itation', 'alles', 'rebell', 'cloake', 'if', 'ckes', 'remembr', 'athes', 'eight', 'constant', 'rests', 'knau', ',', 'cho', 'charitable', 'vulgar', 'aught', 'sa', 'prodi', 'repose', 'glow', 'naked', 'speciall', 'drumme', 'sters', 'water', 'ser', 'nap', 'smiling', 'grey', 'get', 'flame', 'rants', 'fun', 'inward', 'sensible', 'terror', 'heres', 'septi', 'split', 'city', 'childe', 'eding', 'offences', 'ghost', 'those', 'ice', 'execution', 'gates', 'work', 'why', 'preparation', 'way', 'takes', 'rings', 'bur', 'ant', 'gue', 'propose', 'cheeke', 'lobby', 'ercise', 'burne', 'aug', 'groo', 'astonish', 'lded', 'shall', 'tris', 'follow', 'claudi', 'venom', 'crown', 'ke', 'speech', 'loud', 'break', 'state', 'strang', 'obscure', 'brand', 'pain', 'letter', 'marke', 'enesse', 'howle', 'woe', 'down', 'abide', 'new', 'brag', 'knell', 'confound', 'fre', 'memor', 'onely', 'terne', 'often', '].', 'siz', 'unt', 'tius', 'taken', 'mor', 'please', 'assis', 'throw', 'chy', 'hee', 'fingers', 'madame', 'long', 'ber', 'poll', 'vanish', 'eare', 'losse', 'ple', 'ru', 'gowne', 'spect', 'hower', 'ace', 'sole', 'low', 'sho', 'hora', 'malicious', 'dy', 'yonder', 'last', 'equ', 'forehead', 'brow', 'opinions', 'hell', 'ares', 'our', 'hye', 'illius', 'deser', 'bury', 'fortunate', 'uses', 'guar', 'pie', 'worse', 'ier', 'fell', 'ia', 'grie', 'iumpe', 'lay', 'token', 'banish', 'pell', 'seated', 'lung', 'reading', 'dire', 'goodly', 'which', 'rest', 'wr', 'wels', 'cit', 'debt', 'honestie', 'senators', 'ering', 'tenberg', 'home', 'bun', 'sedu', 'sides', 'pompey', 'strangers', 'taste', 'thereto', 'flat', 'fai', 'ered', 'lightning', 'generous', 'vol', 'enterprize', 'groan', 'number', 'pion', 'shalt', 'death', 'others', 'hayle', 'tyranny', 'lds', 'whom', 'ue', 'ire', 'malcol', 'sould', 'highly', 'adde', 'gure', 'prophe', 'leafe', 'accord', 'english', 'should', 'rend', 'lig', 'force', 'bill', 'married', 'christi', 'thing', 'thence', 'noble', 'cted', 'hearing', 'wept', 'thr', 'honors', 'approach', 'any', 'put', 'reply', 'second', 'double', 'go', 'malc', 'straight', 'compar', 'painted', 'sober', 'sad', 'iable', 'cles', 'insup', 'tr', 'conspir', 'baited', 'ham', 'hum', 'message', 'start', 'gon', 'gentleman', 'als', 'borrow', 'fan', 'bird', 'ket', 'shuffling', 'ros', 'plaine', 'marcell', 'ror', 'duncan', 'mouthes', 'inesse', 'clo', ';', 'franch', 'opin', 'stru', 'ti', 'dest', 'disting', 'dost', 'familiar', 'woman', 'mes', 'law', 'fortified', 'fra', 'nch', 'uall', 'pin', 'claim', 'metho', 'haps', 'must', 'brac', 'weake', 'reason', 'hay', 'farwell', 'cherie', 'tyrant', 'sec', 'z', 'whereof', 'queen', 'rob', 'space', 'ingrat', 'cau', 'pow', 'bitter', 'add', 'conceit', 'ging', 'pocket', 'holi', 'acts', 'deed', 'destruction', 'deeds', 'port', 'thru', 'anton', 'caute', 'fam', 'inct', 'bright', 'lesser', 'right', 'tenders', 'reckon', 'likes', 'ain', 'prom', 'gold', 'marry', 'dou', 'wing', 'appar', 'x', 'swet', 'arch', 'cabin', 'parting', 'tempest', 'ase', 'tow', 'eue', 'poore', 'ulate', 'cks', 'vert', 'gg', 'sle', 'steele', 'traine', 'ut', 'soothsayer', 'rabble', 'direction', 'oore', 'fond', 'quarry', 'witnesse', 'ires', 'mac', 'tinct', 'post', 'processe', 'oppres', 'ourish', 'seem', 'obey', 'sen', 'groaning', 'barnardo', 'bak', 'answered', 'salut', 'perous', 'ldo', 'isement', 'ming', 'hits', 'shoulder', 'ner', 'sti', 'mary', 'rebels', 'commission', 'dozen', 'caution', 'dem', 'vne', 'buried', 'w', 'dee', 'arus', 'mean', 'ac', 'oct', 'iue', 'infected', 'fran', 'rowed', 'glamis', 'same', 'concl', 'chanc', 'mountaine', 'beware', 'draw', 'iny', 'ch', 'errand', 'conce', 'ghter', 'fat', 'outs', 'assure', 'cinna', 'fau', 'struck', 'ounded', 'clouds', 'sto', 'concluded', 'fru', 'whereon', 'late', 'sor', 'purging', 'wither', 'beg', 'wolfe', 'going', 'freely', 'dge', 'du', 'seru', 'saile', 'ang', 'uell', 'proper', 'shut', 'blast', 'husbands', 'ro', 'eous', 'ze', 'bat', 'afraid', 'few', 'dings', 'thinke', 'pester', 'present', 'lum', 'dye', 'discretion', 'spoken', 'curre', 'ob', 'nept', 'forme', 'enough', 'pend', 'yea', 'liest', 'wdr', 'traile', 'range', 'mit', 'noone', 'colle', 'become', 'gertrude', 'dit', 'earthly', 'better', 'pur', 'fortune', 'ocation', 'top', 'matter', 'ira', 'ignorance', 'best', 'chide', 'ume', 'merri', 'attended', 'dr', 'iam', 'treacherous', 'dole', 'gif', 'due', 'bidding', 'coward', 'gro', 'ound', 'cast', 'arts', 'dogge', 'ou', 'aside', 'sies', '[CLS]', 'di', 'slay', 'tree', 'seen', 'apt', 'passage', 'pted', 'grow', 'paper', 'doubt', 'fami', 'feet', 'bi', 'knocking', 'cancell', 'banners', 'hyr', 'thin', 'sorrow', 'clay', 'zen', 'reig', 'signes', 'kly', 'confesse', 'base', 'net', 'hisse', 'into', 'cu', 'brie', 'pocr', 'sea', 'fitted', 'england', 'thrice', 'gentle', 'esie', 'man', 'ordin', 'cham', 'station', 'cus', 'whips', 'shadow', 'adieu', 'skill', 'hearts', 'doctor', 'degre', 'disposition', 'happ', 'soules', 'pitty', 'empty', 'kis', 'incen', 'ling', 'streets', 'medit', 'would', 'sigh', 'madam', 'rich', 'heads', 'safety', 'quell', 'oft', 'aye', 'hot', 'whereto', 'histor', 'shortly', 'ments', 'laying', 'resse', 'tell', 'stard', 'pros', 'request', 'id', 'vn', 'esse', 'gallant', 'hun', 'uey', 'sought', 'fatall', 'earth', 'pon', 'confes', 'fen', 'mony', 'extre', 'fo', 'mone', 'rt', 'minis', 'six', 'plea', 'painting', 'ath', 'lena', 'wd', 'destroy', 'villaines', 'ere', 'rac', 'bend', 'scena', 'nunner', 'vt', 'passe', 'lence', 'sard', 'durst', 'sweet', 'artem', 'orus', 'haire', 'ignorant', 'lions', 'drie', 'bow', 'vanqu', 'ily', 'h', 'barn', 'hamlet', 'proportion', 'breed', 'pleasure', 'yles', 'obedience', 'dis', 'falling', 'pluc', 'anius', 'heart', 'inher', 'cals', 'repaire', 'blaze', 'val', 'bru', 'lt', 'ison', 'assurance', 'don', 'whore', 'itie', 'word', 'predomin', 'schoo', 'hatch', 'ction', 'ined', 'bad', 'say', 'mour', 'ment', 'tood', 'inate', 'scotland', 'ission', 'heat', 'smo', 'appall', 'pul', 'ltry', 'treat', 'confin', 'yester', 'hence', 'dome', 'fathers', 'offence', 'face', 'ceremony', 'worst', 'cass', 'macbeths', 'bri', 'dish', 'doll', 'reach', 'scant', '[', 'france', 'care', 'aze', 'fines', 'christian', 'specul', 'pen', 'ey', 'to', 'promise', 'diu', 'ied', 'il', 'below', 'soone', 'wes', 'further', 'rises', 'corne', 'pleas', 'aint', 'guil', 'thus', 'boord', 'porter', 'construe', 'thank', 'purposes', 'fas', 'arras', 'speed', 'memory', 'hoe', 'sonne', 'hel', 'tended', 'praying', 'signif', 'angel', 'effects', 'fin', 'author', 'eng', 'adu', 'tyber', 'cried', 'against', 'yours', 'thither', 'becomes', 'nat', 'macduff', 'beene', 'child', 'thinkes', 'exc', 'create', 'instant', 'share', 'ute', 'star', 'mys', 'harmes', 'buffe', 'pill', 'immediate', 'weale', 'liege', 'scourge', 'fellowship', 'defence', 'bone', 'xe', 'penter', 'shee', 'import', 'lye', 'bou', 'encre', 'saue', 'for', 'precepts', 'explo', 'assaile', 'def', 'appe', 'mind', 'benefit', 'armes', 'thes', 'fully', 'mal', 'friends', 'lis', 'banquet', 'somes', 'raine', 'fu', 'rash', ')', 'withdraw', 'bodie', 'whol', 'mer', 'creatures', 'clos', 'profit', 'deter', 'stomac', 'parchment', 'raigne', 'blou', 'part', 'philosophy', 'pti', 'ite', 'slew', 'infin', 'ima', 'ted', 'full', 'wrongs', 'sicall', 'scand', 'stro', 'relate', 'vouch', 'shrun', 'tu', 'gay', 'people', 'haste', 'danish', 'dayes', 'lords', 'cou', 'entreat', 'player', 'allowed', 'oath', 'arg', 'faithfull', 'husband', 'report', 'opens', 'nit', 'boyle', 'treasure', 'bound', 'car', 'ile', 'castles', 'ishe', 'barren', 'li', 'bet', 'exce', 'descend', 'co', 'cicero', 'gar', 'aspe', 'sweare', 'key', 'acle', 'conquest', 'bea', 'blade', 'dyed', 'hearers', 'ort', 'store', 'forge', 'turning', 'ph', 'coo', 'delights', 'lfe', 'eaten', 'vau', 'seize', 'crosse', 'al', 'disclose', 'stances', 'forger', 'standing', 'held', 'dun', 'wall', 'estion', 'without', 'gui', 'rogue', 'hundred', 'trait', 'hath', 'hazard', 'cleere', 'rush', 'the', 'voy', 'cosin', 'ght', 'hart', 'affai', 'quiet', 'cannot', 'mult', 'wicked', 'ing', 'mee', 'ans', 'vilde', 'imploy', 'fies', 'calp', 'app', 'ri', 'ters', 'cul', 'flash', 'wherein', 'lady', 'turn', 'women', 'beate', 'kissing', 'since', 'seeme', 'saw', 'excell', 'mirth', 'gently', 'wide', 'um', 'begin', 'fearing', 'effect', 'sirs', 'oid', 'exalted', 'able', 'can', 'owe', 'portia', 'sorts', 'halfe', 'rocke', 'suc', 'que', 'waf', 'ignor', 'fe', 'des', 'tent', 'tenance', 'twas', 'pearle', 'produ', 'proscription', 'steep', 'popi', 'pery', 'kill', 'th', 'bay', 'sque', 'atch', 'hy', 'ush', 'assau', 'pent', 'touching', 'doth', 'berg', 'gin', 'infants', 'ats', 'fing', 'wait', 'battlements', 'owed', 'wise', 'funerall', 'succes', 'rim', 'visage', 'drawne', 'party', 'ger', 'faw', 'peake', 'pping', 'rapi', 'inclin', 'table', 'iers', 'pertur', 'rude', 'gainst', 'otherwise', 'appla', 'stub', 'laide', 'appro', 'mall', 'twelue', 'sts', 'ther', 'his', 'gore', 'reme', 'send', 'moe', 'tland', 'contagion', 'knowledge', 'uation', 'wisest', 'besides', 'ranke', 'lius', 'presse', 'deb', 'quicke', 'ator', 'ench', 'capi', 'deere', '1', 'look', 'choo', 'pers', '&', 'cunning', 'uish', 'knowes', 'akes', 'compan', 'ker', 'taught', 'trumpets', 'single', 'therein', 'hadst', 'vap', 'wish', 'desir', 'youth', 'beating', 'ab', 'fles', 'winke', 'might', 'nought', 'seemes', 'world', 'anie', 'danger', 'fellowes', 'priu', 'her', 'lun', 'purpose', 'canst', 'dare', 'osr', 'many', 'tong', 'rus', 'oppos', 'queene', 'loso', 'mason', 'back', 'already', 'abl', 'leather', 'fear', 'saint', 'shrie', 'caius', 'mago', 'concer', 'assume', 'horrors', 'blesse', 'cher', 'dismay', 'hoo', 'slip', 'foun', 'fiend', 'paid', 'thine', 'drun', 'proceeding', 'army', 'racter', 'sun', 'iot', 'ater', 'pal', 'pastor', 'yeares', 'permission', 'mine', 'gaine', 'horrid', 'fortin', 'utch', 'fish', 'sell', 'swa', 'gers', 'tide', 'propor', 'pit', 'lome', 'crost', 'paw', 'und', 'igh', 'downe', 'geon', 'ayre', 'hea', 'ustom', 'wof', 'sail', 'acc', 'impatience', 'came', 'aines', 'blest', 'ak', 'makes', 'such', 'tongue', 'deare', 'rel', 'fixt', 'vo', 'ir', 'romans', 'impon', 'sur', 'icke', 'am', 'ruption', 'kin', 'est', 'ueller', 'talke', 'cepts', 'listen', 'strength', 'cent', 'strangely', 'road', 'sterne', 'deny', 'wring', 'bids', 'ree', 'ants', 'attend', 'facul', 'bonds', 'anger', 'dreame', 'seek', 'pate', 'oppose', 'owle', 'par', 'thaw', 'then', 'stal', 'ps', 'prow', 'cies', 'alexander', 'wretched', 'sweetly', 'lings', 'br', 'rep', 'who', 'ime', 'light', 'witchcraft', 'hin', 'tle', 'humbly', 'spacious', 'whither', 'stage', 'els', 'ext', 'legions', 'bly', 'babes', 'side', 'lute', 'bath', 'parley', 'bin', 'pard', 'told', 'repent', 'gros', 'taines', 'instr', 'shold', 'lep', 'died', 'feele', 'subiect', 'issue', 'oure', 'swall', 'marriage', 'weapons', 'lordship', 'proph', 'bled', 'ange', 'seuen', 'how', 'alar', 'neuer', 'hercu', '6', 'stoo', 'az', 'fort', 'longer', 'agree', 'cke', 'ads', 'pes', 'til', 'pind', 'spoke', 'honourable', 'rapier', 'execut', 'ion', 'enter', 'lights', 'commen', 'sine', 'gall', 'apart', 'brothers', 'imagin', 'watch', 'paines', 'growing', 'she', 'lic', 'counsell', 'bers', 'gen', 'vali', 'marrie', 'ignty', 'pu', 'this', 'foolish', 'swords', 'fiery', 'establ', 'asking', 'bble', 'swearing', 'sors', 'tched', 'lap', 'weary', 'plague', 'stone', 'quill', 'winde', 'affli', 'hole', 'tem', 'needs', 'small', 'ware', 'ity', 'line', 'twi', 'yee', 'quite', 'wren', 'dro', 'pa', 'verie', 'dares', 'twel', 'pau', 'tis', 'famine', 'short', 'followed', 'drift', 'ities', 'knew', 'lip', 'carry', 'offend', 'traged', 'forrest', 'constan', 'ents', 'hounds', 'regard', 'yre', 'mount', 'p', 'bloody', 'yno', 'kernes', 'hopes', 'first', 'cly', 'alas', 'los', 'ardo', 'error', 'decius', 'prin', 'place', 'batta', 'load', 'mage', 'kept', 'ring', 'diseas', 'lying', 'oner', 'ckt', 'fect', 'infect', 'ler', 'ury', 'col', 'bor', 'pecu', 'bla', 'betimes', 'mend', 'knife', 'glory', 'ud', 'ent', 'ben', 'mut', 'thanks', 'comes', 'ones', 'mane', 'conscience', 'figure', 'loath', 'afterwards', 'gious', 'large', 'march', 'wisely', 'young', 'liu', 'north', 'altogether', 'iust', 'weigh', 'gi', 'mindes', 'ligar', 'canker', 'daughter', 'com', 'sacred', 'like', 'knock', 'dri', 'lid', 'hilts', 'edge', '(', 'selfe', 'num', 'arme', 'bl', 'illusion', 'obe', 'tal', 'awhile', 'blessing', 'consequence', 'sk', 'steps', 'cun', 'ption', 'tiger', 'whil', 'exchange', 'reasons', 'setting', 'mete', 'blame', 'mock', 'oue', 'rites', 'opinion', 'power', 'bold', 'carpenter', 'fill', 'cocke', 'hony', 'fires', 'bones', 'wha', 'holds', 'nay', 'isher', 'beauty', 'mis', 'ood', 'poet', 'immedi', 'theirs', 'hung', 'eyes', 'points', 'dispos', 'lenox', 'dience', 'ledge', 'drab', 'bubbles', 'silent', 'nau', 'immediately', 'lding', 'ind', 'faint', 'lde', 'olympus', 'ition', 'profession', 'volt', 'ins', 'ful', 'preu', 'next', 'tes', 'romane', 'patience', 'soci', 'quit', 'ho', 'thy', 'host', 'vouchsafe', 'month', 'fac', 'nam', 'dra', 're', 'priam', 'whi', 'doo', 'bit', '9', 'forget', 'battell', 'ua', 'nowed', 'snow', 'temple', 'dyest', 'free', 'riot', 'phi', 'bles', 'ets', 'found', 'luc', 'termes', 'snake', 'kers', 'will', 'roome', 'amazement', 'cep', 'ius', 'gicall', 'inno', 'lead', 'ry', 'inity', 'flight', 'stones', 'worm', 'ambassadors', 'ap', 'couch', 'mali', 'shot', 'tily', 'bare', 'thousand', 'fted', 'pious', 'clock', 'goose', 'reigne', 'macdu', 'beguile', 'cures', 'strike', 'loose', 'implo', 'mortall', 'trees', 'natures', 'vill', 'thinking', 'tongues', 'tere', 'ley', 'yond', 'op', 'ces', 'dig', 'folly', 'unes', 'athing', 'tyre', 'alone', 'bleeding', 'gues', 'wrought', 'sanct', 'veno', 'atter', 'passing', 'black', 'scru', 'sme', 'liue', 'mighty', 'visitation', 'distra', 'abhorred', 'umand', 'rom', 'violent', 'uill', 'find', 'ages', 'wards', 'castle', 'strings', 'hither', 'wor', 'fl', 'angle', 'an', 'stall', 'rible', 'erie', 'teous', 'countri', 'fret', 'shores', 'ambit', 'dious', 'begun', 'sport', 'condem', 'answere', 'sleep', 'cen', 'chast', 'hip', 'chan', 'eno', 'rather', 'manly', 'begge', 'remember', 'hion', 'mon', 'hen', 'mouth', 'procla', 'lo', 'bation', 'lodg', 'drown', 'tum', 'nod', 'great', 'pace', 'except', 'secund', 'spr', 'goodnesse', 'mple', 'breeding', 'seale', 'augure', 'bro', 'mood', 'celes', 'iance', 'om', 'touches', 'cred', 'blinde', 'imports', 'dane', 'oake', 'mir', 'tor', 'lockes', 'fright', 'high', 'throne', 'cer', 'beaten', 'scholl', 'bir', 'sets', 'thane', 'lucian', 'by', 'throat', 'chim', 'tap', 'clamor', 'sc', 'manet', 'pith', 'damn', 'traitor', 'discourse', 'ophelia', 'mouse', 'pose', 'stare', 'bals', 'fault', 'shed', 'bil', 'cor', 'solute', 'cleare', 'actus', 'quarrell', 'greater', 'faith', 'ioy', 'ended', 'manhood', 'sends', 'harke', 'sha', 'conspira', 'reuen', 'harsh', 'dle', 'deede', 'soule', 'still', 'saide', 'make', 'stood', 'manner', 'capt', 'sake', 'retreat', 'heau', 'ize', 'nan', 'era', 'wed', 'confines', 'posing', 'clit', 'wel', 'fal', 'dere', 'win', 'macbeth', 'ick', 'tant', 'dut', 'flood', 'fren', 'accur', 'tables', 'flatter', 'gib', 'different', 'lof', 'stronger', 'foe', 'designe', 'broad', '!', 'norway', 'carriages', 'actor', 'uel', 'soldier', 'whet', 'dies', 'especiall', 's', 'action', 'colour', 'tho', 'scep', 'fus', 'one', 'tan', 'steed', 'ney', 'res', ':', 'cry', 'encounter', 'rub', 'et', 'gam', 'acious', 'proud', 'guard', 'countenance', 'seeke', 'hastie', 'denmark', 'van', 'q', 'cas', 'more', 'eth', 'od', 'axe', 'orded', 'prolo', 'what', 'let', 'publius', 'fiends', 'after', 'stole', 'rebellious', 'come', 'mong', 'sin', 'ddy', 'peop', 'masters', 'run', 'mill', 'trans', 'braz', 'serious', 'offi', 'taper', 'gaming', 'ating', 'prosperous', 'beast', 'peale', 'umn', 'stren', 'beseech', 'ites', 'trade', 'horror', 'pily', 'thick', 'wake', 'honesty', 'streame', 'write', 'ceth', 'along', 'nim', 'fortunes', 'euer', 'ech', 'scure', 'counted', 'cla', 'pare', 'attempt', 'sci', 'mould', 'aid', 'thie', 'clowne', 'accounted', 'lan', 'awe', 'dom', 'owes', 'elder', 'ences', 'hide', 'bas', 'intent', 'eru', 'macb', 'throwne', 'precious', 'fortinbras', 'bathe', 'pol', 'pati', 'betray', 'thou', 'tempt', 'ripe', 'shar', 'luci', 'maske', 'inc', 'mid', 'niggard', 'yest', 'hor', 'ian', 'dangers', 'tit', 'spend', 'defe', 'faults', 'oth', 'whence', 'k', 'lne', 'yet', 'peepe', 'exe', 'negle', 'rewd', 'bby', 'exeunt', 'did', 'rat', 'laugh', 'troubled', 'gather', 'ec', 'cous', 'breach', 'cked', 'quarta', 'gs', 'hollow', 'didst', 'push', 'neither', 'mess', 'bell', 'shout', 'bot', 'inu', 'bosomes', 'bon', 'broo', 'soldiers', 'sleeping', 'cat', 'iz', 'worlds', 'narrow', 'ise', 'tribut', 'ah', 'byr', 'shakes', 'princes', 'grand', 'pract', 'ed', 'vio', 'gr', 'pable', 'angers', 'play', 'were', 'flesh', 'asc', 'kneele', 'chance', 'dition', 'ayde', 'beck', 'con', 'prey', 'open', 'boun', 'wonder', 'suffers', 'innocent', 'guildenster', 'angell', 'mu', 'respect', 'see', 'know', 'nesse', 'walke', 'won', 'oh', 'nes', 'royall', 'lear', 'rese', 'ricke', 'cai', 'image', 'itted', 'sey', 'valiant', 'leg', 'ake', 'mbl', 'reue', 'richer', 'safe', 'teach', 'requ', 'necess', 'infir', 'whiles', 'strew', 'rot', 'tyrants', 'lau', 'fighting', 'marching', 'dwell', 'mart', 'answer', 'outward', 'charg', 'marcellus', 'sixe', 'wood', 'breake', 'prayers', 'lacke', 'rise', 'ide', 'tayl', 'warrant', 'appear', 'tryall', 'purg', 'guide', 'perfu', 'leads', 'raise', 'twenty', 'custome', 'lly', 'ancestors', 'asse', 'practice', 'masse', 'umph', 'ray', 'xander', 'morne', 'caesar', 'lyes', 'shape', 'esteem', 'sall', 'generall', 'commends', 'dg', 'aine', 'ains', 'rosse', 'rea', 'sie', 'eres', 'sounded', 'sour', 'forgotten', 'election', 'sense', 'furnish', \"'\", 'particul', 'ight', 'pre', 'sacri', 'market', 'lacks', 'spent', 'ban', 'lusty', 'ators', 'summons', 'reso', 'addition', 'tyran', 'polea', 'gate', 'pee', 'historicall', 'ifull', 'berland', 'comedie', 'rebu', 'messenger', 'among', 'antage', 'cruell', 'acte', 'mil', 'ran', 'close', 'ach', 'begger', 'at', 'performance', 'sue', 'doing', 'caes', 'pitti', 'en', 'scone', 'dow', 'instrument', 'vey', 'a', 'added', 'kie', 'seas', 'lia', 'ints', 'reflection', 'ians', 'nose', 'tale', 'booke', 'mother', 'maid', 'seal', 'suck', 'gh', 'dar', 'scull', 'scor', 'batter', 'indeed', 'confir', 'vantage', 'butchers', 'returning', 'grasse', 'swear', 'paine', 'now', 'hedge', 'gent', 'wa', 'call', 'east', 'senses', 'succe', 'lcer', 'horrible', 'dagger', 'occasion', 'both', 'denies', 'swift', 'tydings', 'alo', 'envenom', 'phur', 'sou', 'cise', 'adie', 'smell', 'william', 'ought', 'expe', 'lines', 'affaire', 'fet', 'cries', 'forgot', 'sister', 'pretty', 'perchance', 'ate', 'weak', 'praise', 'ping', 'hood', 'match', 'pleasures', 'boo', 'bring', 'acting', 'feat', 'bbles', 'attendant', 'aues', 'cal', 'tame', 'cont', 'pronounce', 'barke', 'ne', 'before', 'poss', 'strange', 'grace', 'supp', 'slum', 'ision', 'ca', 'summ', 'behold', 'ence', 'act', 'nunnery', 'leng', 'wants', 'tragedie', 'cour', 'dry', 'quer', 'point', 'commend', 'appeare', 'sences', 'blush', 'doue', 'arrow', 'ye', 'firme', 'bar', 'bought', 'mantle', 'torches', 'adem', 'prince', 'ports', 'arle', 'desires', 'sicken', 'stuffe', 'places', 'whis', 'contra', 'mme', 'delay', 'gau', 'bors', 'peace', 'lasting', 'glories', 'seene', 'troubles', 'ghosts', 'seare', 'reeking', 'ning', 'quality', 'gray', 'mourning', 'rough', 'do', 'remorse', 'wast', 'ff', 'bo', 'may', 'daunt', 'mo', 'therly', 'secur', 'bene', 'morrow', 'stant', 'sway', 'argument', 'tur', 'necessit', 'foule', 'ding', 'partly', 'consci', 'vertue', 'ferre', 'diet', 'igne', 'riu', 'ophe', 'humble', 'truly', 'prologue', 'dumbe', 'lifted', 'ders', 'tooke', 'kind', 'ably', 'ague', 'circumstance', 'pesti', 'palme', 'cle', 'rose', 'tut', 'parti', 'feather', 'dearest', 'arm', 'french', 'gnant', 'y', 'blasphe', 'turnes', 'fold', 'tro', 'minister', 'incest', 'ames', 'sings', 'thanes', 'brau', 'entertain', 'song', 'yle', 'show', 'estee', 'primus', 'reput', 'celebr', 'proce', 'pray', 'feeble', 'erall', 'deckt', 'ayl', 'absent', 'cing', 'band', 'twice', 'yeare', 'render', 'smooth', 'ck', 'tru', 'goes', 'j', 'stab', 'reco', 'begins', '[SEP]', 'white', 'from', 'tim', 'nation', 'drous', 'maids', 'stra', 'gods', 'under', 'villaine', 'graces', 'quin', 'lest', 'repe', 'cri', 'ses', 'prest', 'dard', 'coming', 'ni', 'ues', 'valour', 'rore', 'suites', 'though', 'bree', 'mistrust', 'keene', 'seed', 'sand', 'acqu', 'playing', 'plent', 'own', 'bestow', 'knot', 'breath', 'drin', 'occas', 'sar', 'ste', 'shapes', 'flowers', 'of', 'myra', 'kinde', 'ances', 'vi', 'keepes', 'ay', 'office', 'but', 'ower', 'moder', 'gre', 'haue', 'friendship', 'kely', 'ane', 'wi', 'sels', 'faul', 'ie', 'merry', 'accursed', 'pregnant', 'delic', 'sut', 'perceiue', 'higher', 'lar', 'eas', 'ratch', 'dismall', '5', 'rare', 'visit', 'maine', 'quar', 'cli', 'tane', 'fa', 'nall', 'hoby', 'imes', 'noy', 'violence', 'purse', 'grosse', 'dain', 'vpon', 'shift', 'yr', 'sick', 'scar', 'rapiers', 'porch', 'bele', 'speakes', 'ament', 'sp', 'priz', 'confusion', 'much', 'worme', 'bui', 'foote', 'damne', 'ally', 'tred', 'strous', 'plu', 'fall', 'eye', 'wash', 'lesse', 'volu', 'quo', 'hi', 'cious', 'cling', 'shal', 'within', 'purcha', 'bust', 'whose', 'enemy', 'lend', 'fire', 'usion', 'enem', 'gracious', 'baby', 'audit', 'stat', 'whether', 'foyles', 'ct', 'liberty', 'sisters', 'ures', 'haile', 'sorry', 'gashes', 'naturall', 'dicious', '-', 'script', 'spir', 'flattere', 'lux', 'made', 'crying', 'cha', 'ado', 'ticke', 'vow', 'chee', 'pron', 'hangers', 'fest', 'metel', 'nun', 'sinne', 'per', 'spot', 'sate', 'assur', 'position', 'mortal', 'rum', 'nobl', 'probation', 'out', 'ore', 'account', 'tre', 'walkes', 'expect', 'commons', 'defend', 'ministers', 'tarry', 'mercifull', 'ha', 'their', 'sickly', 'au', 'hus', 'ad', 'prayer', 'epit', 'sy', 'bough', 'cy', 'graspe', 'sla', 'tique', 'fellow', 'proceeded', 'stale', 'tom', 'causes', 'birth', 'ance', 'statue', 'erce', 'olde', 'strato', 'ies', 'impe', 'treach', 'kne', 'tome', 'impl', 'owne', 'instances', 'newest', 'quart', 'dew', 'prima', 'ouch', 'alarum', 'mat', 'sucke', 'pronoun', 'eag', 'remor', 'confe', 'satis', 'mew', 'lies', 'ross', 'rell', 'ma', 'nie', 'deale', 'roo', 'spar', 'thund', 'you', 'ary', 'these', 'ated', 'mber', 'gl', 'course', 'lts', 'ties', 'wear', 'dull', 'shake', 'prepar', 'length', 'kingdome', 'prou', 'wrong', 'lab', 'together', 'wax', 'crimes', 'sence', 'iting', 'ready', 'presence', 'return', 'ocean', 'ctions', 'kil', 'senate', 'potent', 'vul', 'taine', 'pause', 'pardon', 'pends', 'cine', 'os', 'caught', 'wag', 'stretch', 'wealth', 'ruction', 'trifle', 'tified', 'crowne', 'boyes', 'faction', 'witting', 'scri', 'land', 'dash', 'neere', 'rors', 'hew', 'agen', 'ffi', 'vent', 'oo', 'ede', 'gru', 'ama', 'proue', 'caldron', 'sits', 'uer', 'faine', 'spe', 'cin', 'ce', 'sup', 'toth', 'cawd', 'body', 'comp', 'knee', 'armor', 'apprehen', 'dru', 'murderer', 'kni', 'bid', 'men', 'waste', 'quest', 'cription', 'fits', 'llowed', 'horses', 'assu', 'norman', 'vesse', 'roy', 'ious', 'raid', 'fayl', 'well', 'worthy', 'pot', 'wound', 'plebeians', 'lot', 'mbe', 'rosin', 'itude', 'horse', 'talk', 'mas', 'person', 'dau', 'offe', 'iect', 'happy', 'lyon', 'warre', 'attaine', 'gree', 'ill', 'heartily', 'ly', 'oly', 'awake', 'south', 'mortified', 'consider', 'house', 'goodnight', '0', 'ild', 'gges', 'prof', 'ons', 'fants', 'luer', 'where', 'gir', 'motion', 'thought', 'calles', 'geons', 'depends', 'chers', 'pay', 'necke', 'rugg', 'cassius', 'whilst', 'egge', 'resolution', 'petit', 'chop', 'rema', 'iti', 'wey', 'timely', 'emp', 'seeing', 'cie', 'modest', 'chap', 'god', 'enow', 'zago', 'quinta', 'third', 'divul', 'farre', 'trou', 'teare', 'each', 'hear', 'combin', 'aunt', 'on', 'engers', 'parted', 'truely', 'wretch', 'super', 'clutch', 'seeming', 'der', 'iest', 'thrift', 'locke', 'bs', 'window', 'king', 'eter', 'hard', 'gash', 'appetite', 'poure', 'dec', 'choose', 'ument', 'orne', 'torch', 'lets', 'asure', 'courtier', 'me', 'fast', 'them', 'weap', 'ui', 'knees', 'ung', 'discomfort', 'quick', 'italy', 'glad', 'isters', 'ship', 'plant', 'likely', 'llable', 'toy', 'core', 'tance', 'absolute', 'arre', 'e', 'wer', '3', 'brands', 'wit', 'rapt', 'suffi', 'nice', 'aking', 'pine', 'itching', 'opes', 'practi', 'char', 'impart', 'beare', 'newes', 'bels', 'loe', 'theater', 'es', 'sal', 'sat', 'bab', 'borne', 'perhaps', 'mutiny', 'buzz', 'treason', 'drum', 'dir', 'fed', 'weare', 'monstrous', 'ar', 'ution', 'guild', 'lids', 'sage', 'steale', 'ade', 'salt', 'scaena', 'laughter', 'there', 'prisoner', 'reat', 'twixt', 'banke', 'laid', 'gor', 'property', 'ten', 'contri', 'len', 'said', 'cr', 'tion', 'ble', 'forc', 'refra', 'lit', 'names', 'spade', 'min', 'left', 'phe', 'stir', 'heere', 'colours', 'entrance', 'ele', 'ckle', 'rightly', 'ratif', 'nig', 'ow', 'vse', 'gone', 'duncans', 'onish', 'master', 'cob', 'numbers', 'bond', 'admiration', 'messa', 'disgrace', 'r', 'fares', 'threat', 'directly', 'beyond', 'antonio', 'sple', 'suffering', 'perate', 'fantast', 'hat', 'thunder', 'leno', 'war', 'ls', 'hey', 'cowards', 'friend', 'sex', 'son', 'womans', 'lament', 'count', 'ambassad', 'enact', 'loue', 'crooke', 'org', 'cobl', 'vie', 'honor', 'caesars', 'iffe', 'ings', 'tents', 'adue', 'as', 'cking', 'yce', 'sures', 'courage', 'plac', 'hamlets', 'good', 'abuse', 'dread', 'estie', 'hackt', 'asie', 'coff', 'and', 'temper', 'noblest', 'deci', 'hate', 'piece', 'guest', 'macd', 'nobly', 'formes', 'neath', 'briefe', 'polon', 'ouer', 'liance', 'conc', 'itable', 'sty', 'orie', 'ciall', 'barbar', 'thicke', 'spor', 'beh', 'beard', 'ours', 'nia', 'lent', 'old', 'thanke', 'sees', 'cally', 'la', 'instruments', 'm', 'idus', 'kisses', 'c', 'ino', 'sel', 'wittenberg', 'mity', 'une', 'infinite', 'expell', 'desire', 'my', 'lots', 'si', 'him', 'swo', 'perfor', 'cket', 'pursue', 'life', 'amaz', 'vs', 'lse', 'heed', 'cur', 'iours', 'voyage', 'blew', 'wil', 'diction', 'mile', 'coni', 'in', 'rent', 'flo', 'fee', 'ul', 'liqu', 'antony', 'liar', 'dign', 'hercules', 'rous', 'cauldron', 'earnest', 'pret', 'dignity', 'cup', 'worke', 'dyes', 'thro', 'uices', 'acted', 'shoo', 'pet', 'melt', 'tray', 'hope', 'anish', 'true', 'necessary', 'lack', 'guilty', 'seyton', 'eld', 'trust', 'sting', 'sanctified', 'some', 'forth', 'clou', 'cere', 'auer', 'rece', 'rs', 'cap', 'utes', '']\n",
      "4376\n"
     ]
    }
   ],
   "source": [
    "def Convert(string): \n",
    "    li = list(string.split('\\n')) \n",
    "    return li\n",
    "\n",
    "with open(vocab_file_path, 'r', encoding='utf-8') as f:\n",
    "    text = f.read()\n",
    "\n",
    "sub_word = Convert(text)\n",
    "print(sub_word)\n",
    "vocab_size = len(sub_word)\n",
    "print(vocab_size)"
   ]
  },
  {
   "cell_type": "code",
   "execution_count": 3,
   "metadata": {},
   "outputs": [
    {
     "name": "stdout",
     "output_type": "stream",
     "text": [
      "test: [54, 2653, 312]\n",
      "test: condition this is\n",
      "tensor([ 0,  1,  2,  3,  4,  5,  6,  7,  8,  9, 10, 11, 12, 13, 14, 15, 16, 17,\n",
      "        18, 19, 20, 21, 22, 23, 24, 25, 26, 27, 28, 29, 30, 31, 32, 33, 34, 35,\n",
      "        36, 37, 38, 39, 40, 41, 42, 43, 44, 45, 46, 47, 48, 49, 50, 51, 52, 53,\n",
      "        54, 55, 56, 57, 58, 59, 60, 61, 62, 63, 64, 65, 66, 67, 68, 69, 70, 71,\n",
      "        72, 73, 74, 75, 76, 77, 78, 79, 80, 81, 82, 83, 84, 85, 86, 87, 88, 89,\n",
      "        90, 91, 92, 93, 94, 95, 96, 97, 98, 99])\n"
     ]
    }
   ],
   "source": [
    "#word level encoding\n",
    "string_to_int = {sb:i for i,sb in enumerate(sub_word)}\n",
    "int_to_string = {i:sb for i,sb in enumerate(sub_word)}\n",
    "\n",
    "encode = lambda s: [string_to_int[sub_word] for sub_word in s.split()]\n",
    "decode = lambda l: ' '.join([int_to_string[i] for i in l])\n",
    "\n",
    "data = torch.tensor(encode(text), dtype=torch.long)\n",
    "\n",
    "test = 'condition this is'\n",
    "print(f'test: {encode(test)}')\n",
    "print(f'test: {decode(encode(test))}')\n",
    "print(data[:100])"
   ]
  },
  {
   "cell_type": "code",
   "execution_count": 4,
   "metadata": {},
   "outputs": [
    {
     "name": "stdout",
     "output_type": "stream",
     "text": [
      "inputs:\n",
      "tensor([[  67,    2,   41,  ...,   78,   78,   71],\n",
      "        [  71,   78,   78,  ...,   84,   71, 4786],\n",
      "        [   0,    0,    0,  ...,   47,   67,   84],\n",
      "        ...,\n",
      "        [   2,   77,   71,  ...,   81,   80,   87],\n",
      "        [  67,   85,    2,  ...,   71,    2,   75],\n",
      "        [  81,   81,   70,  ...,   86,   87,   84]], device='cuda:0')\n",
      "targets:\n",
      "tensor([[   2,   41,   81,  ...,   78,   71,   73],\n",
      "        [  78,   78,    2,  ...,   71, 4786,    2],\n",
      "        [   0,    0,    0,  ...,   67,   84,   69],\n",
      "        ...,\n",
      "        [  77,   71,   71,  ...,   80,   87,   67],\n",
      "        [  85,    2,   39,  ...,    2,   75,   86],\n",
      "        [  81,   70,    2,  ...,   87,   84,   91]], device='cuda:0')\n"
     ]
    }
   ],
   "source": [
    "def get_random_chunk(split):\n",
    "    filename = train_file_path if split == 'train' else val_file_path\n",
    "    with open(filename, 'rb') as f:\n",
    "        with mmap.mmap(f.fileno(), 0, access=mmap.ACCESS_READ) as mm:\n",
    "            # Determine the file size and a random position to start reading\n",
    "            file_size = len(mm)\n",
    "            start_pos = random.randint(0, (file_size) - block_size*batch_size)\n",
    "\n",
    "            # Seek to the random position and read the block of text\n",
    "            mm.seek(start_pos)\n",
    "            block = mm.read(block_size*batch_size-1)\n",
    "\n",
    "            # Decode the block to a string, ignoring any invalid byte sequences\n",
    "            decoded_block = block.decode('utf-8', errors='ignore').replace('\\r', '')\n",
    "            \n",
    "            # Train and test splits\n",
    "            data = torch.tensor(encode(decoded_block), dtype=torch.long)\n",
    "            \n",
    "    return data\n",
    "\n",
    "def get_batch(split):\n",
    "    # data = train_data if split == 'train' else val_data\n",
    "    data = get_random_chunk(split)\n",
    "    ix = torch.randint(len(data) - block_size, (batch_size,))\n",
    "    x = torch.stack([data[i:i+block_size] for i in ix])\n",
    "    y = torch.stack([data[i+1:i+block_size + 1] for i in ix])\n",
    "    x, y = x.to(device), y.to(device)\n",
    "    return x, y\n",
    "\n",
    "x, y = get_batch('train')\n",
    "print('inputs:')\n",
    "print(x)\n",
    "print('targets:')\n",
    "print(y)"
   ]
  },
  {
   "cell_type": "code",
   "execution_count": 5,
   "metadata": {},
   "outputs": [],
   "source": [
    "@torch.no_grad\n",
    "def estimate_loss():\n",
    "    out = {}\n",
    "    model.eval()\n",
    "    for split in ['train', 'val']:\n",
    "        losses = torch.zeros(eval_iters)\n",
    "        for k in range(eval_iters):\n",
    "            X, Y = get_batch(split)\n",
    "            logits, loss = model(X, Y)\n",
    "            losses[k] = loss.item()\n",
    "        out[split] = losses.mean()\n",
    "    model.train()\n",
    "    return out"
   ]
  },
  {
   "cell_type": "code",
   "execution_count": 6,
   "metadata": {},
   "outputs": [
    {
     "name": "stdout",
     "output_type": "stream",
     "text": [
      "loading model parameters...\n",
      "loaded successfully!\n"
     ]
    }
   ],
   "source": [
    "class Head(nn.Module):\n",
    "    \"\"\" one head of self-attention \"\"\"\n",
    "\n",
    "    def __init__(self, head_size):\n",
    "        super().__init__()\n",
    "        self.key = nn.Linear(n_embd, head_size, bias=False)\n",
    "        self.query = nn.Linear(n_embd, head_size, bias=False)\n",
    "        self.value = nn.Linear(n_embd, head_size, bias=False)\n",
    "        self.register_buffer('tril', torch.tril(torch.ones(block_size, block_size)))\n",
    "\n",
    "        self.dropout = nn.Dropout(dropout)\n",
    "\n",
    "    def forward(self, x):\n",
    "        # input of size (batch, time-step, channels)\n",
    "        # output of size (batch, time-step, head size)\n",
    "        B,T,C = x.shape\n",
    "        k = self.key(x)   # (B,T,hs)\n",
    "        q = self.query(x) # (B,T,hs)\n",
    "        # compute attention scores (\"affinities\")\n",
    "        wei = q @ k.transpose(-2,-1) * k.shape[-1]**-0.5 # (B, T, hs) @ (B, hs, T) -> (B, T, T)\n",
    "        wei = wei.masked_fill(self.tril[:T, :T] == 0, float('-inf')) # (B, T, T)\n",
    "        wei = F.softmax(wei, dim=-1) # (B, T, T)\n",
    "        wei = self.dropout(wei)\n",
    "        # perform the weighted aggregation of the values\n",
    "        v = self.value(x) # (B,T,hs)\n",
    "        out = wei @ v # (B, T, T) @ (B, T, hs) -> (B, T, hs)\n",
    "        return out\n",
    "\n",
    "# [1, 0, 0]\n",
    "# [1, 0.6, 0]\n",
    "# [1, 0.6, 0.4]\n",
    "class MultiHeadAttention(nn.Module):\n",
    "    \"\"\" multiple heads of self-attention in parallel \"\"\"\n",
    "\n",
    "    def __init__(self, num_heads, head_size):\n",
    "        super().__init__()\n",
    "        self.heads = nn.ModuleList([Head(head_size) for _ in range(num_heads)])\n",
    "        self.proj = nn.Linear(head_size * num_heads, n_embd)\n",
    "        self.dropout = nn.Dropout(dropout)\n",
    "\n",
    "    def forward(self, x):\n",
    "        out = torch.cat([h(x) for h in self.heads], dim=-1) # (B, T, F) -> (B, T, [h1, h1, h1, h1, h2, h2, h2, h2, h3, h3, h3, h3])\n",
    "        out = self.dropout(self.proj(out))\n",
    "        return out\n",
    "    \n",
    "\n",
    "class FeedFoward(nn.Module):\n",
    "    \"\"\" a simple linear layer followed by a non-linearity \"\"\"\n",
    "\n",
    "    def __init__(self, n_embd):\n",
    "        super().__init__()\n",
    "        self.net = nn.Sequential(\n",
    "            nn.Linear(n_embd, 4 * n_embd),\n",
    "            nn.ReLU(),\n",
    "            nn.Linear(4 * n_embd, n_embd),\n",
    "            nn.Dropout(dropout),\n",
    "        )\n",
    "\n",
    "    def forward(self, x):\n",
    "        return self.net(x)\n",
    "    \n",
    "class Block(nn.Module):\n",
    "    \"\"\" Transformer block: communication followed by computation \"\"\"\n",
    "\n",
    "    def __init__(self, n_embd, n_head):\n",
    "        # n_embd: embedding dimension, n_head: the number of heads we'd like\n",
    "        super().__init__()\n",
    "        head_size = n_embd // n_head\n",
    "        self.sa = MultiHeadAttention(n_head, head_size)\n",
    "        self.ffwd = FeedFoward(n_embd)\n",
    "        self.ln1 = nn.LayerNorm(n_embd)\n",
    "        self.ln2 = nn.LayerNorm(n_embd)\n",
    "\n",
    "    def forward(self, x):\n",
    "        y = self.sa(x)\n",
    "        x = self.ln1(x + y)\n",
    "        y = self.ffwd(x)\n",
    "        x = self.ln2(x + y)\n",
    "        return x\n",
    "    \n",
    "class GPTLanguageModel(nn.Module):\n",
    "    def __init__(self, vocab_size):\n",
    "        super().__init__()\n",
    "        self.token_embedding_table = nn.Embedding(vocab_size, n_embd)\n",
    "        self.position_embedding_table = nn.Embedding(block_size, n_embd)\n",
    "        self.blocks = nn.Sequential(*[Block(n_embd, n_head=n_head) for _ in range(n_layer)])\n",
    "        self.ln_f = nn.LayerNorm(n_embd) # final layer norm\n",
    "        self.lm_head = nn.Linear(n_embd, vocab_size)\n",
    "        \n",
    "        \n",
    "        self.apply(self._init_weights)\n",
    "\n",
    "    def _init_weights(self, module):\n",
    "        if isinstance(module, nn.Linear):\n",
    "            torch.nn.init.normal_(module.weight, mean=0.0, std=0.02)\n",
    "            if module.bias is not None:\n",
    "                torch.nn.init.zeros_(module.bias)\n",
    "        elif isinstance(module, nn.Embedding):\n",
    "            torch.nn.init.normal_(module.weight, mean=0.0, std=0.02)\n",
    "\n",
    "    def forward(self, index, targets=None):\n",
    "        B, T = index.shape\n",
    "        \n",
    "        \n",
    "        # idx and targets are both (B,T) tensor of integers\n",
    "        tok_emb = self.token_embedding_table(index) # (B,T,C)\n",
    "        pos_emb = self.position_embedding_table(torch.arange(T, device=device)) # (T,C)\n",
    "        x = tok_emb + pos_emb # (B,T,C)\n",
    "        x = self.blocks(x) # (B,T,C)\n",
    "        x = self.ln_f(x) # (B,T,C)\n",
    "        logits = self.lm_head(x) # (B,T,vocab_size)\n",
    "        \n",
    "        if targets is None:\n",
    "            loss = None\n",
    "        else:\n",
    "            B, T, C = logits.shape\n",
    "            logits = logits.view(B*T, C)\n",
    "            targets = targets.view(B*T)\n",
    "            loss = F.cross_entropy(logits, targets)\n",
    "        \n",
    "        return logits, loss\n",
    "    \n",
    "    def generate(self, index, max_new_tokens):\n",
    "        # index is (B, T) array of indices in the current context\n",
    "        for _ in range(max_new_tokens):\n",
    "            # crop idx to the last block_size tokens\n",
    "            index_cond = index[:, -block_size:]\n",
    "            # get the predictions\n",
    "            logits, loss = self.forward(index_cond)\n",
    "            # focus only on the last time step\n",
    "            logits = logits[:, -1, :] # becomes (B, C)\n",
    "            # apply softmax to get probabilities\n",
    "            probs = F.softmax(logits, dim=-1) # (B, C)\n",
    "            # sample from the distribution\n",
    "            index_next = torch.multinomial(probs, num_samples=1) # (B, 1)\n",
    "            # append sampled index to the running sequence\n",
    "            index = torch.cat((index, index_next), dim=1) # (B, T+1)\n",
    "        return index\n",
    "\n",
    "model = GPTLanguageModel(vocab_size)\n",
    "\n",
    "if(use_trained_model):\n",
    "    print('loading model parameters...')\n",
    "    with open(saved_model, 'rb') as f:\n",
    "        model = pickle.load(f)\n",
    "    print('loaded successfully!')\n",
    "\n",
    "\n",
    "m = model.to(device)"
   ]
  },
  {
   "cell_type": "code",
   "execution_count": 9,
   "metadata": {},
   "outputs": [
    {
     "ename": "RuntimeError",
     "evalue": "CUDA error: unknown error\nCUDA kernel errors might be asynchronously reported at some other API call, so the stacktrace below might be incorrect.\nFor debugging consider passing CUDA_LAUNCH_BLOCKING=1.\nCompile with `TORCH_USE_CUDA_DSA` to enable device-side assertions.\n",
     "output_type": "error",
     "traceback": [
      "\u001b[1;31m---------------------------------------------------------------------------\u001b[0m",
      "\u001b[1;31mRuntimeError\u001b[0m                              Traceback (most recent call last)",
      "Cell \u001b[1;32mIn[9], line 6\u001b[0m\n\u001b[0;32m      3\u001b[0m \u001b[38;5;28;01mfor\u001b[39;00m \u001b[38;5;28miter\u001b[39m \u001b[38;5;129;01min\u001b[39;00m \u001b[38;5;28mrange\u001b[39m(max_iters):\n\u001b[0;32m      5\u001b[0m     \u001b[38;5;28;01mif\u001b[39;00m \u001b[38;5;28miter\u001b[39m \u001b[38;5;241m%\u001b[39m eval_iters \u001b[38;5;241m==\u001b[39m \u001b[38;5;241m0\u001b[39m:\n\u001b[1;32m----> 6\u001b[0m         losses \u001b[38;5;241m=\u001b[39m \u001b[43mestimate_loss\u001b[49m\u001b[43m(\u001b[49m\u001b[43m)\u001b[49m\n\u001b[0;32m      7\u001b[0m         \u001b[38;5;28mprint\u001b[39m(\u001b[38;5;124mf\u001b[39m\u001b[38;5;124m'\u001b[39m\u001b[38;5;124mstep: \u001b[39m\u001b[38;5;132;01m{\u001b[39;00m\u001b[38;5;28miter\u001b[39m\u001b[38;5;132;01m}\u001b[39;00m\u001b[38;5;124m, train loss: \u001b[39m\u001b[38;5;132;01m{\u001b[39;00mlosses[\u001b[38;5;124m\"\u001b[39m\u001b[38;5;124mtrain\u001b[39m\u001b[38;5;124m\"\u001b[39m]\u001b[38;5;132;01m:\u001b[39;00m\u001b[38;5;124m.4f\u001b[39m\u001b[38;5;132;01m}\u001b[39;00m\u001b[38;5;124m, eval loss: \u001b[39m\u001b[38;5;132;01m{\u001b[39;00mlosses[\u001b[38;5;124m\"\u001b[39m\u001b[38;5;124mval\u001b[39m\u001b[38;5;124m\"\u001b[39m]\u001b[38;5;132;01m:\u001b[39;00m\u001b[38;5;124m.4f\u001b[39m\u001b[38;5;132;01m}\u001b[39;00m\u001b[38;5;124m'\u001b[39m)\n\u001b[0;32m      8\u001b[0m     \u001b[38;5;66;03m#sample a batch of data\u001b[39;00m\n",
      "File \u001b[1;32mv:\\llm-project\\cuda\\Lib\\site-packages\\torch\\utils\\_contextlib.py:115\u001b[0m, in \u001b[0;36mcontext_decorator.<locals>.decorate_context\u001b[1;34m(*args, **kwargs)\u001b[0m\n\u001b[0;32m    112\u001b[0m \u001b[38;5;129m@functools\u001b[39m\u001b[38;5;241m.\u001b[39mwraps(func)\n\u001b[0;32m    113\u001b[0m \u001b[38;5;28;01mdef\u001b[39;00m \u001b[38;5;21mdecorate_context\u001b[39m(\u001b[38;5;241m*\u001b[39margs, \u001b[38;5;241m*\u001b[39m\u001b[38;5;241m*\u001b[39mkwargs):\n\u001b[0;32m    114\u001b[0m     \u001b[38;5;28;01mwith\u001b[39;00m ctx_factory():\n\u001b[1;32m--> 115\u001b[0m         \u001b[38;5;28;01mreturn\u001b[39;00m \u001b[43mfunc\u001b[49m\u001b[43m(\u001b[49m\u001b[38;5;241;43m*\u001b[39;49m\u001b[43margs\u001b[49m\u001b[43m,\u001b[49m\u001b[43m \u001b[49m\u001b[38;5;241;43m*\u001b[39;49m\u001b[38;5;241;43m*\u001b[39;49m\u001b[43mkwargs\u001b[49m\u001b[43m)\u001b[49m\n",
      "Cell \u001b[1;32mIn[5], line 8\u001b[0m, in \u001b[0;36mestimate_loss\u001b[1;34m()\u001b[0m\n\u001b[0;32m      6\u001b[0m losses \u001b[38;5;241m=\u001b[39m torch\u001b[38;5;241m.\u001b[39mzeros(eval_iters)\n\u001b[0;32m      7\u001b[0m \u001b[38;5;28;01mfor\u001b[39;00m k \u001b[38;5;129;01min\u001b[39;00m \u001b[38;5;28mrange\u001b[39m(eval_iters):\n\u001b[1;32m----> 8\u001b[0m     X, Y \u001b[38;5;241m=\u001b[39m \u001b[43mget_batch\u001b[49m\u001b[43m(\u001b[49m\u001b[43msplit\u001b[49m\u001b[43m)\u001b[49m\n\u001b[0;32m      9\u001b[0m     logits, loss \u001b[38;5;241m=\u001b[39m model(X, Y)\n\u001b[0;32m     10\u001b[0m     losses[k] \u001b[38;5;241m=\u001b[39m loss\u001b[38;5;241m.\u001b[39mitem()\n",
      "Cell \u001b[1;32mIn[4], line 27\u001b[0m, in \u001b[0;36mget_batch\u001b[1;34m(split)\u001b[0m\n\u001b[0;32m     25\u001b[0m x \u001b[38;5;241m=\u001b[39m torch\u001b[38;5;241m.\u001b[39mstack([data[i:i\u001b[38;5;241m+\u001b[39mblock_size] \u001b[38;5;28;01mfor\u001b[39;00m i \u001b[38;5;129;01min\u001b[39;00m ix])\n\u001b[0;32m     26\u001b[0m y \u001b[38;5;241m=\u001b[39m torch\u001b[38;5;241m.\u001b[39mstack([data[i\u001b[38;5;241m+\u001b[39m\u001b[38;5;241m1\u001b[39m:i\u001b[38;5;241m+\u001b[39mblock_size \u001b[38;5;241m+\u001b[39m \u001b[38;5;241m1\u001b[39m] \u001b[38;5;28;01mfor\u001b[39;00m i \u001b[38;5;129;01min\u001b[39;00m ix])\n\u001b[1;32m---> 27\u001b[0m x, y \u001b[38;5;241m=\u001b[39m \u001b[43mx\u001b[49m\u001b[38;5;241;43m.\u001b[39;49m\u001b[43mto\u001b[49m\u001b[43m(\u001b[49m\u001b[43mdevice\u001b[49m\u001b[43m)\u001b[49m, y\u001b[38;5;241m.\u001b[39mto(device)\n\u001b[0;32m     28\u001b[0m \u001b[38;5;28;01mreturn\u001b[39;00m x, y\n",
      "\u001b[1;31mRuntimeError\u001b[0m: CUDA error: unknown error\nCUDA kernel errors might be asynchronously reported at some other API call, so the stacktrace below might be incorrect.\nFor debugging consider passing CUDA_LAUNCH_BLOCKING=1.\nCompile with `TORCH_USE_CUDA_DSA` to enable device-side assertions.\n"
     ]
    }
   ],
   "source": [
    "optimizer = torch.optim.AdamW(model.parameters(), lr=learning_rate)\n",
    "\n",
    "for iter in range(max_iters):\n",
    "\n",
    "    if iter % eval_iters == 0:\n",
    "        losses = estimate_loss()\n",
    "        print(f'step: {iter}, train loss: {losses[\"train\"]:.4f}, eval loss: {losses[\"val\"]:.4f}')\n",
    "    #sample a batch of data\n",
    "    xb, yb = get_batch('train')\n",
    "\n",
    "    #evaluate the loss\n",
    "    logits, loss = model.forward(xb, yb)\n",
    "    optimizer.zero_grad(set_to_none=True)\n",
    "    loss.backward()\n",
    "    optimizer.step()\n",
    "\n",
    "print(loss.item())\n",
    "\n",
    "with open(model_name, \"wb\") as f:\n",
    "    pickle.dump(model, f)\n",
    "print(\"model saved\")"
   ]
  },
  {
   "cell_type": "code",
   "execution_count": 7,
   "metadata": {},
   "outputs": [
    {
     "name": "stdout",
     "output_type": "stream",
     "text": [
      "Completion:\n",
      "hellogg ssaidactedvern playe the vreass and to pirneds whoto therem.smatar gast refing bedur Jaysload pornets coTm what to catter balsors.\n",
      "\n",
      "\n",
      "\n",
      "In but-ith is\n"
     ]
    }
   ],
   "source": [
    "# prompt = input(\"Prompt:\\n\")\n",
    "prompt = 'hello'\n",
    "context = torch.tensor(encode(prompt), dtype=torch.long, device=device)\n",
    "generated_chars = decode(m.generate(context.unsqueeze(0), max_new_tokens=150)[0].tolist())\n",
    "print(f'Completion:\\n{generated_chars}')"
   ]
  },
  {
   "cell_type": "code",
   "execution_count": 8,
   "metadata": {},
   "outputs": [
    {
     "name": "stdout",
     "output_type": "stream",
     "text": [
      "\u0000\u0000\u0000\u0000\u0000\u0000\u0000\u0000\u0000\u0000\u0000\u0000\u0000\u0000\u0000\u0000\u0000\u0000\u0000\u0000\u0000\u0000\u0000\u0000\u0000\u0000\u0000\u0000\u0000\u0000\u0000\u0000\u0000\u0000\u0000\u0000\u0000\u0000\u0000\u0000\u0000\u0000\u0000\u0000\u0000\u0000\u0000\u0000\u0000\u0000\u0000\u0000\u0000\u0000\u0000\u0000\u0000\u0000\u0000\u0000\u0000\u0000\u0000\u0000\u0000\u0000\u0000\u0000\u0000\u0000\u0000\u0000\u0000\u0000\u0000\u0000\u0000\u0000\u0000\u0000\u0000\u0000\u0000\u0000\u0000\u0000\u0000\u0000\u0000\u0000\u0000\u0000\u0000\u0000\u0000\u0000\u0000\u0000\u0000\u0000\u0000\u0000\u0000\u0000\u0000\u0000\u0000\u0000\u0000\u0000\u0000\u0000\u0000\u0000\u0000\u0000\u0000\u0000\u0000\u0000\u0000\u0000\u0000\u0000\u0000\u0000\u0000\u0000\u0000\u0000\u0000\u0000\u0000\u0000\u0000\u0000\u0000\u0000\u0000\u0000\u0000\u0000\u0000\u0000\u0000\u0000\u0000\u0000\u0000\u0000\u0000\n"
     ]
    }
   ],
   "source": [
    "context = torch.zeros((1,1), dtype=torch.long, device=device)\n",
    "generated_chars = decode(m.generate(context, max_new_tokens=150)[0].tolist())\n",
    "print(generated_chars)"
   ]
  }
 ],
 "metadata": {
  "kernelspec": {
   "display_name": "Python 3 (ipykernel)",
   "language": "python",
   "name": "python3"
  },
  "language_info": {
   "codemirror_mode": {
    "name": "ipython",
    "version": 3
   },
   "file_extension": ".py",
   "mimetype": "text/x-python",
   "name": "python",
   "nbconvert_exporter": "python",
   "pygments_lexer": "ipython3",
   "version": "3.11.7"
  }
 },
 "nbformat": 4,
 "nbformat_minor": 4
}
